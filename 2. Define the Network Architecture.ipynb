{
 "cells": [
  {
   "cell_type": "markdown",
   "metadata": {},
   "source": [
    "TODO: Prepare dataset to cut-out faces\n",
    "\n",
    "C4W3L04 Convolutional Implementation Sliding Windows - Idea: https://www.youtube.com/watch?v=XdsmlBGOK-k\n",
    "- HRNetV2\n",
    "- OpenSeeFace\n",
    "- Dlib facial landmark predictor\n",
    "- Very interesting: https://ai.plainenglish.io/facial-landmarks-detection-using-xception-net-908b8b80f758\n",
    "- https://github.com/zmurez/MediaPipePyTorch\n",
    "\n",
    "## Challenges\n",
    "NamishNet didn't work well. It didn't seem to understand what a face with mouth, nose, eyes and eybrows really is. It seems that it simply learn't the average positioning of facial keypoints. It didn't realize the exact positions of the keypoints nor their orientation, e.g. when a person is turning heads or leaning aside:\n",
    "\n",
    "- The images in the NaimishNet-paper where cropped such that only faces with almost no background was presented to the NN.\n",
    "- NaimishNet had to learn only 15 keypoints and not 68. Particularly the outer keypoints often look randomly placed. It is often hard to see any features, especially when neck and chin are hard to distinguish.\n",
    "- So there is much more noise in our pictures\n",
    "- The quality of a few pictures is very poor and keypoints hardly visible, even to human eyes.\n",
    "\n",
    "Consequently...\n",
    "- The final pipeline will find the faces first and then look for the facial keypoints.\n",
    "- So cropping to the areas of the faces using the keypoints before training.\n",
    "- Design&train the keypoint detector for 128x128 rather than 224x224 pixels.\n",
    "- Decided to train with color images, because sing grayscale only is neglecting valuable information.\n"
   ]
  },
  {
   "cell_type": "markdown",
   "metadata": {},
   "source": [
    "## Define the Convolutional Neural Network\n",
    "\n",
    "After you've looked at the data you're working with and, in this case, know the shapes of the images and of the keypoints, you are ready to define a convolutional neural network that can *learn* from this data.\n",
    "\n",
    "In this notebook and in `models.py`, you will:\n",
    "1. Define a CNN with images as input and keypoints as output\n",
    "2. Construct the transformed FaceKeypointsDataset, just as before\n",
    "3. Train the CNN on the training data, tracking loss\n",
    "4. See how the trained model performs on test data\n",
    "5. If necessary, modify the CNN structure and model hyperparameters, so that it performs *well* **\\***\n",
    "\n",
    "**\\*** What does *well* mean?\n",
    "\n",
    "\"Well\" means that the model's loss decreases during training **and**, when applied to test image data, the model produces keypoints that closely match the true keypoints of each face. And you'll see examples of this later in the notebook.\n",
    "\n",
    "---\n"
   ]
  },
  {
   "cell_type": "markdown",
   "metadata": {},
   "source": [
    "## CNN Architecture\n",
    "\n",
    "Recall that CNN's are defined by a few types of layers:\n",
    "* Convolutional layers\n",
    "* Maxpooling layers\n",
    "* Fully-connected layers\n",
    "\n",
    "You are required to use the above layers and encouraged to add multiple convolutional layers and things like dropout layers that may prevent overfitting. You are also encouraged to look at literature on keypoint detection, such as [this paper](https://arxiv.org/pdf/1710.00977.pdf), to help you determine the structure of your network.\n",
    "\n",
    "\n",
    "### TODO: Define your model in the provided file `models.py` file\n",
    "\n",
    "This file is mostly empty but contains the expected name and some TODO's for creating your model.\n",
    "\n",
    "---"
   ]
  },
  {
   "cell_type": "markdown",
   "metadata": {},
   "source": [
    "## PyTorch Neural Nets\n",
    "\n",
    "To define a neural network in PyTorch, you define the layers of a model in the function `__init__` and define the feedforward behavior of a network that employs those initialized layers in the function `forward`, which takes in an input image tensor, `x`. The structure of this Net class is shown below and left for you to fill in.\n",
    "\n",
    "Note: During training, PyTorch will be able to perform backpropagation by keeping track of the network's feedforward behavior and using autograd to calculate the update to the weights in the network.\n",
    "\n",
    "#### Define the Layers in ` __init__`\n",
    "As a reminder, a conv/pool layer may be defined like this (in `__init__`):\n",
    "```\n",
    "# 1 input image channel (for grayscale images), 32 output channels/feature maps, 3x3 square convolution kernel\n",
    "self.conv1 = nn.Conv2d(1, 32, 3)\n",
    "\n",
    "# maxpool that uses a square window of kernel_size=2, stride=2\n",
    "self.pool = nn.MaxPool2d(2, 2)      \n",
    "```\n",
    "\n",
    "#### Refer to Layers in `forward`\n",
    "Then referred to in the `forward` function like this, in which the conv1 layer has a ReLu activation applied to it before maxpooling is applied:\n",
    "```\n",
    "x = self.pool(F.relu(self.conv1(x)))\n",
    "```\n",
    "\n",
    "Best practice is to place any layers whose weights will change during the training process in `__init__` and refer to them in the `forward` function; any layers or functions that always behave in the same way, such as a pre-defined activation function, should appear *only* in the `forward` function."
   ]
  },
  {
   "cell_type": "markdown",
   "metadata": {},
   "source": [
    "#### Why models.py\n",
    "\n",
    "You are tasked with defining the network in the `models.py` file so that any models you define can be saved and loaded by name in different notebooks in this project directory. For example, by defining a CNN class called `Net` in `models.py`, you can then create that same architecture in this and other notebooks by simply importing the class and instantiating a model:\n",
    "```\n",
    "    from models import Net\n",
    "    net = Net()\n",
    "```"
   ]
  },
  {
   "cell_type": "code",
   "execution_count": null,
   "metadata": {},
   "outputs": [],
   "source": [
    "# import the usual resources\n",
    "import matplotlib.pyplot as plt\n",
    "from mpl_toolkits.axes_grid1 import ImageGrid\n",
    "import numpy as np\n",
    "\n",
    "# watch for any changes in model.py, if it changes, re-load it automatically\n",
    "%load_ext autoreload\n",
    "%autoreload 2"
   ]
  },
  {
   "cell_type": "code",
   "execution_count": null,
   "metadata": {},
   "outputs": [],
   "source": [
    "## TODO: Define the Net in models.py\n",
    "\n",
    "import torch\n",
    "import torch.nn as nn\n",
    "import torch.nn.functional as F\n",
    "\n",
    "## TODO: Once you've defined the network, you can instantiate it\n",
    "# one example conv layer has been provided for you\n",
    "from models import Net\n",
    "\n",
    "net = Net()\n",
    "print(net)"
   ]
  },
  {
   "cell_type": "code",
   "execution_count": null,
   "metadata": {},
   "outputs": [],
   "source": [
    "import gc\n",
    "torch.cuda.empty_cache()\n",
    "gc.collect()"
   ]
  },
  {
   "cell_type": "markdown",
   "metadata": {
    "collapsed": true,
    "jupyter": {
     "outputs_hidden": true
    }
   },
   "source": [
    "## Transform the dataset \n",
    "\n",
    "To prepare for training, create a transformed dataset of images and keypoints.\n",
    "\n",
    "### TODO: Define a data transform\n",
    "\n",
    "In PyTorch, a convolutional neural network expects a torch image of a consistent size as input. For efficient training, and so your model's loss does not blow up during training, it is also suggested that you normalize the input images and keypoints. The necessary transforms have been defined in `data_load.py` and you **do not** need to modify these; take a look at this file (you'll see the same transforms that were defined and applied in Notebook 1).\n",
    "\n",
    "To define the data transform below, use a [composition](http://pytorch.org/tutorials/beginner/data_loading_tutorial.html#compose-transforms) of:\n",
    "1. Rescaling and/or cropping the data, such that you are left with a square image (the suggested size is 224x224px)\n",
    "2. Normalizing the images and keypoints; turning each RGB image into a grayscale image with a color range of [0, 1] and transforming the given keypoints into a range of [-1, 1]\n",
    "3. Turning these images and keypoints into Tensors\n",
    "\n",
    "These transformations have been defined in `data_load.py`, but it's up to you to call them and create a `data_transform` below. **This transform will be applied to the training data and, later, the test data**. It will change how you go about displaying these images and keypoints, but these steps are essential for efficient training.\n",
    "\n",
    "As a note, should you want to perform data augmentation (which is optional in this project), and randomly rotate or shift these images, a square image size will be useful; rotating a 224x224 image by 90 degrees will result in the same shape of output."
   ]
  },
  {
   "cell_type": "code",
   "execution_count": null,
   "metadata": {},
   "outputs": [],
   "source": [
    "from torch.utils.data import Dataset, DataLoader\n",
    "from torchvision import transforms, utils, models\n",
    "\n",
    "# the dataset we created in Notebook 1 is copied in the helper file `data_load.py`\n",
    "from data_load import FacialKeypointsDataset\n",
    "# the transforms we defined in Notebook 1 are in the helper file `data_load.py`\n",
    "from data_load import Rescale, RandomCrop, CenterCrop, Normalize, ToTensor, ToTensorRGB\n",
    "\n",
    "\n",
    "## DONE: define the data_transform using transforms.Compose([all tx's, . , .])\n",
    "# order matters! i.e. rescaling should come before a smaller crop\n",
    "data_transform = None\n",
    "# data_transform = transforms.Compose([Rescale(250),\n",
    "#                                      RandomCrop(224),\n",
    "#                                      Normalize(),\n",
    "#                                      ToTensor()])\n",
    "data_transform = transforms.Compose([Rescale(250),\n",
    "                                     CenterCrop(224),\n",
    "                                     ToTensorRGB()])\n",
    "\n",
    "# testing that you've defined a transform\n",
    "assert(data_transform is not None), 'Define a data_transform'"
   ]
  },
  {
   "cell_type": "code",
   "execution_count": null,
   "metadata": {},
   "outputs": [],
   "source": [
    "import cv2\n",
    "\n",
    "class FaceCrop(object):\n",
    "    \"\"\"Crop a face in the image in a sample using the keypoints.\n",
    "\n",
    "    Args:\n",
    "        output_size (tuple or int): Desired output size. If int, square crop\n",
    "            is made.\n",
    "    \"\"\"\n",
    "\n",
    "    def __init__(self, output_size, random_rotate_deg=0.0, random_scale=0.0, random_crop_percentage=0):\n",
    "        #assert isinstance(output_size, (int, tuple))\n",
    "        if isinstance(output_size, int):\n",
    "            self.output_size = (output_size, output_size)\n",
    "        else:\n",
    "            #assert len(output_size) == 2\n",
    "            self.output_size = output_size\n",
    "        self.random_rotate_deg = random_rotate_deg\n",
    "\n",
    "    def __call__(self, sample):\n",
    "        image_np, key_pts = sample['image'], sample['keypoints']\n",
    "        h, w = image_np.shape[:2]\n",
    "        #print(image_np.shape[:2])\n",
    "        # angle = np.random.uniform(-self.random_rotate_deg, self.random_rotate_deg)\n",
    "        angle = 20.0\n",
    "        # Rotation of the keypoints\n",
    "        keypoints_rotation_matrix = np.array([\n",
    "                [+np.cos(np.radians(angle)), -np.sin(np.radians(angle))], \n",
    "                [+np.sin(np.radians(angle)), +np.cos(np.radians(angle))]\n",
    "            ])\n",
    "        image_rot_np = rotate_image(image_np, angle)\n",
    "        h_rot, w_rot = image_rot_np.shape[:2]\n",
    "        center = (w/2, h/2)  # get the center coordinates of the image to create the 2D rotation matrix\n",
    "        key_pts = key_pts - center\n",
    "        key_pts = np.matmul(key_pts, keypoints_rotation_matrix)\n",
    "        key_pts = key_pts + center + ((w_rot-w)/2, (h_rot-h)/2)\n",
    "\n",
    "        # Face cropping using the keypoints\n",
    "        h, w = h_rot, w_rot  # image.shape[:2]\n",
    "        #print(image.shape[:2])\n",
    "        #new_h, new_w = h, w  # self.output_size\n",
    "        weighted_center_0, weighted_center_1 = (key_pts[:, 0]).mean(), (key_pts[:, 1]).mean()\n",
    "        new_h = (key_pts[:, 1].max() - key_pts[:, 1].min()) * self.output_size # * rand_scale\n",
    "        new_w = (key_pts[:, 0].max() - key_pts[:, 0].min()) * self.output_size # * rand_scale\n",
    "        new_wh_max = int(min(\n",
    "            max(new_h, new_w),\n",
    "            w, h\n",
    "        ))\n",
    "        #print(weighted_center_0)\n",
    "        #top = int((h - new_h)/2)\n",
    "        #left = int((w - new_w)/2)\n",
    "        top = max(0, int(min(weighted_center_1 - new_wh_max/2, key_pts[:, 1].min())))\n",
    "        left = max(0, int(min(weighted_center_0 - new_wh_max/2, key_pts[:, 0].min())))\n",
    "        new_wh_max = min(new_wh_max, h - top - 1, w - left - 1)\n",
    "        bottom = top + new_wh_max\n",
    "        right = left + new_wh_max\n",
    "        if right >= w:\n",
    "            print('right!')\n",
    "            right = w\n",
    "        if bottom >= h:\n",
    "            print('bottom!')\n",
    "            bottom = h\n",
    "        \n",
    "        #print('top:{0}, left:{1}'.format(top,left))\n",
    "        image_rot_np = image_rot_np[top:bottom, left:right]\n",
    "\n",
    "        key_pts = key_pts - [left, top]\n",
    "\n",
    "        return {'image': image_rot_np, 'keypoints': key_pts}\n",
    "\n",
    "\n",
    "# self.transform = transforms.ColorJitter(brightness, contrast, saturation, hue)\n",
    "# return self.transform(image), landmarks"
   ]
  },
  {
   "cell_type": "code",
   "execution_count": null,
   "metadata": {},
   "outputs": [],
   "source": [
    "# For training grayscale images\n",
    "data_transform = transforms.Compose([\n",
    "    #TODO RandomRotation(20),\n",
    "    # TODO Randomize saturation and brightness.\n",
    "    FaceCrop(1.5),  # TODO: add random range\n",
    "    Rescale(128),\n",
    "    Normalize(),\n",
    "    ToTensor()])"
   ]
  },
  {
   "cell_type": "code",
   "execution_count": null,
   "metadata": {},
   "outputs": [],
   "source": [
    "# For training color RGB images\n",
    "data_transform = transforms.Compose([\n",
    "    #TODO RandomRotation(20),\n",
    "    # TODO Randomize saturation and brightness.\n",
    "    FaceCrop(1.5),  # TODO: add random range\n",
    "    Rescale(128),\n",
    "    ToTensorRGB()])"
   ]
  },
  {
   "cell_type": "code",
   "execution_count": null,
   "metadata": {},
   "outputs": [],
   "source": [
    "# This doesn't work well for the training\n",
    "data_transform = transforms.Compose([Rescale(150),\n",
    "                                     CenterCrop(128),\n",
    "                                     ToTensorRGB()])"
   ]
  },
  {
   "cell_type": "code",
   "execution_count": null,
   "metadata": {},
   "outputs": [],
   "source": [
    "data_transform = transforms.Compose([#Rescale(250),\n",
    "                                     #CenterCrop(224),\n",
    "                                     ToTensorRGB()])"
   ]
  },
  {
   "cell_type": "code",
   "execution_count": null,
   "metadata": {},
   "outputs": [],
   "source": [
    "# create the transformed dataset\n",
    "training_keypoints = 'data/training_frames_keypoints.csv'\n",
    "training_files = 'data/training/'\n",
    "#training_keypoints='data/minitest_frames_keypoints.csv'\n",
    "#training_files = 'data/test/'\n",
    "transformed_dataset = FacialKeypointsDataset(csv_file=training_keypoints,\n",
    "                                             root_dir=training_files,\n",
    "                                             transform=data_transform)\n",
    "\n",
    "print('Number of images: ', len(transformed_dataset))\n",
    "\n",
    "# iterate through the transformed dataset and print some stats about the first few samples\n",
    "import pandas as pd\n",
    "for i in range(10):\n",
    "    sample = transformed_dataset[i]\n",
    "    if (pd.Series(list(sample['image'].size()[1:])) > 128).any():\n",
    "        print(i, sample['image'].size(), sample['keypoints'].size())"
   ]
  },
  {
   "cell_type": "code",
   "execution_count": null,
   "metadata": {},
   "outputs": [],
   "source": [
    "def rotate_image(mat, angle):\n",
    "    \"\"\"\n",
    "    Rotates an image (angle in degrees) and expands image to avoid cropping\n",
    "    https://stackoverflow.com/questions/43892506/opencv-python-rotate-image-without-cropping-sides\n",
    "    \"\"\"\n",
    "\n",
    "    height, width = mat.shape[:2] # image shape has 3 dimensions\n",
    "    image_center = (width/2, height/2) # getRotationMatrix2D needs coordinates in reverse order (width, height) compared to shape\n",
    "\n",
    "    rotation_mat = cv2.getRotationMatrix2D(image_center, angle, 1.)\n",
    "\n",
    "    # rotation calculates the cos and sin, taking absolutes of those.\n",
    "    abs_cos = abs(rotation_mat[0,0]) \n",
    "    abs_sin = abs(rotation_mat[0,1])\n",
    "\n",
    "    # find the new width and height bounds\n",
    "    bound_w = int(height * abs_sin + width * abs_cos)\n",
    "    bound_h = int(height * abs_cos + width * abs_sin)\n",
    "\n",
    "    # subtract old image center (bringing image back to origo) and adding the new image center coordinates\n",
    "    rotation_mat[0, 2] += bound_w/2 - image_center[0]\n",
    "    rotation_mat[1, 2] += bound_h/2 - image_center[1]\n",
    "\n",
    "    # rotate image with the new bounds and translated rotation matrix\n",
    "    rotated_mat = cv2.warpAffine(mat, rotation_mat, (bound_w, bound_h))\n",
    "    return rotated_mat"
   ]
  },
  {
   "cell_type": "code",
   "execution_count": null,
   "metadata": {},
   "outputs": [],
   "source": [
    "sample = transformed_dataset[113]\n",
    "print('Shape: ' + str(sample['image'].shape))\n",
    "image = sample['image'].clone()\n",
    "show_keypoints(image, sample['keypoints'], normalize=True)"
   ]
  },
  {
   "cell_type": "code",
   "execution_count": null,
   "metadata": {},
   "outputs": [],
   "source": [
    "key_pts = sample['keypoints'].numpy().copy()\n",
    "key_pts = key_pts*50 + 100\n",
    "image_np = image.numpy().transpose((1, 2, 0))\n",
    "\n",
    "h, w = image_np.shape[:2]\n",
    "print(image_np.shape[:2])\n",
    "# angle = np.random.uniform(-self.random_rotate_deg, self.random_rotate_deg)\n",
    "angle = 20.0\n",
    "# Rotation of the keypoints\n",
    "keypoints_rotation_matrix = np.array([\n",
    "        [+np.cos(np.radians(angle)), -np.sin(np.radians(angle))], \n",
    "        [+np.sin(np.radians(angle)), +np.cos(np.radians(angle))]\n",
    "    ])\n",
    "image_rot_np = rotate_image(image_np, angle)\n",
    "h_rot, w_rot = image_rot_np.shape[:2]\n",
    "center = (w/2, h/2)  # get the center coordinates of the image to create the 2D rotation matrix\n",
    "key_pts = key_pts - center\n",
    "key_pts = np.matmul(key_pts, keypoints_rotation_matrix)\n",
    "key_pts = key_pts + center + ((w_rot-w)/2, (h_rot-h)/2)\n",
    "\n",
    "key_pts = (key_pts - 100) / 50\n",
    "#key_pts = key_pts + (h_rot,w_rot) - (h,w)"
   ]
  },
  {
   "cell_type": "code",
   "execution_count": null,
   "metadata": {},
   "outputs": [],
   "source": [
    "image_torch = torch.from_numpy(image_rot_np.transpose((2, 0, 1)))\n",
    "keypoints_torch = torch.from_numpy(key_pts)"
   ]
  },
  {
   "cell_type": "code",
   "execution_count": null,
   "metadata": {},
   "outputs": [],
   "source": [
    "show_keypoints(image_torch, keypoints_torch, normalize=True)"
   ]
  },
  {
   "cell_type": "code",
   "execution_count": null,
   "metadata": {},
   "outputs": [],
   "source": [
    "image_torch.shape"
   ]
  },
  {
   "cell_type": "markdown",
   "metadata": {},
   "source": [
    "## Batching and loading data\n",
    "\n",
    "Next, having defined the transformed dataset, we can use PyTorch's DataLoader class to load the training data in batches of whatever size as well as to shuffle the data for training the model. You can read more about the parameters of the DataLoader, in [this documentation](http://pytorch.org/docs/master/data.html).\n",
    "\n",
    "#### Batch size\n",
    "Decide on a good batch size for training your model. Try both small and large batch sizes and note how the loss decreases as the model trains.\n",
    "\n",
    "**Note for Windows users**: Please change the `num_workers` to 0 or you may face some issues with your DataLoader failing."
   ]
  },
  {
   "cell_type": "code",
   "execution_count": null,
   "metadata": {},
   "outputs": [],
   "source": [
    "# load training data in batches\n",
    "batch_size = 16\n",
    "\n",
    "train_loader = DataLoader(transformed_dataset, \n",
    "                          batch_size=batch_size,\n",
    "                          shuffle=True, \n",
    "                          num_workers=4)\n"
   ]
  },
  {
   "cell_type": "markdown",
   "metadata": {},
   "source": [
    "## Test the DataLoader"
   ]
  },
  {
   "cell_type": "code",
   "execution_count": null,
   "metadata": {},
   "outputs": [],
   "source": [
    "def imshow(image, ax=None, title=None, normalize=True):\n",
    "    \"\"\"Imshow for Tensor.\"\"\"\n",
    "    if ax is None:\n",
    "        fig, ax = plt.subplots()\n",
    "    image = image.numpy().transpose((1, 2, 0))\n",
    "\n",
    "    if normalize:\n",
    "        mean = np.array([0.485, 0.456, 0.406])\n",
    "        std = np.array([0.229, 0.224, 0.225])\n",
    "        image = std * image + mean\n",
    "        image = np.clip(image, 0, 1)\n",
    "\n",
    "    return image\n",
    "\n",
    "\n",
    "def show_keypoints(image, key_pts, normalize=True):\n",
    "    \"\"\"Show image with keypoints\"\"\"\n",
    "    key_pts_copy = np.copy(key_pts)\n",
    "    # Invert keypoint normalization in data_load.py:Normalize: key_pts_copy = (key_pts_copy - 100)/50.0\n",
    "    key_pts_copy = key_pts_copy*50.0 + 100.0\n",
    "\n",
    "    image = image.numpy().transpose((1, 2, 0))\n",
    "\n",
    "    if normalize:\n",
    "        mean = np.array([0.485, 0.456, 0.406])\n",
    "        std = np.array([0.229, 0.224, 0.225])\n",
    "        image = std * image + mean\n",
    "        image = np.clip(image, 0, 1)\n",
    "\n",
    "    #plt.imshow(image, cmap='gray')\n",
    "    plt.imshow(image)\n",
    "    plt.scatter(key_pts_copy[:, 0], key_pts_copy[:, 1], s=20, marker='.', c='m')\n"
   ]
  },
  {
   "cell_type": "code",
   "execution_count": null,
   "metadata": {},
   "outputs": [],
   "source": [
    "# Test the data loader\n",
    "images = next(iter(train_loader))\n",
    "if images['image'][0].shape[0] == 3:  # its a color (RGB) image\n",
    "    show_keypoints(images['image'][0], images['keypoints'][0], normalize=True)\n",
    "else:\n",
    "    show_keypoints(images['image'][0], images['keypoints'][0], normalize=False)"
   ]
  },
  {
   "cell_type": "markdown",
   "metadata": {},
   "source": [
    "## Before training\n",
    "\n",
    "Take a look at how this model performs before it trains. You should see that the keypoints it predicts start off in one spot and don't match the keypoints on a face at all! It's interesting to visualize this behavior so that you can compare it to the model after training and see how the model has improved.\n",
    "\n",
    "#### Load in the test dataset\n",
    "\n",
    "The test dataset is one that this model has *not* seen before, meaning it has not trained with these images. We'll load in this test data and before and after training, see how your model performs on this set!\n",
    "\n",
    "To visualize this test data, we have to go through some un-transformation steps to turn our images into python images from tensors and to turn our keypoints back into a recognizable range. "
   ]
  },
  {
   "cell_type": "code",
   "execution_count": null,
   "metadata": {},
   "outputs": [],
   "source": [
    "# load in the test data, using the dataset class\n",
    "# AND apply the data_transform you defined above\n",
    "\n",
    "# create the test dataset\n",
    "test_dataset = FacialKeypointsDataset(csv_file='data/test_frames_keypoints.csv',\n",
    "                                             root_dir='data/test/',\n",
    "                                             transform=data_transform)"
   ]
  },
  {
   "cell_type": "code",
   "execution_count": null,
   "metadata": {},
   "outputs": [],
   "source": [
    "# load test data in batches\n",
    "batch_size = 10\n",
    "\n",
    "test_loader = DataLoader(test_dataset, \n",
    "                          batch_size=batch_size,\n",
    "                          shuffle=True, \n",
    "                          num_workers=4)"
   ]
  },
  {
   "cell_type": "code",
   "execution_count": null,
   "metadata": {},
   "outputs": [],
   "source": [
    "import os\n",
    "[ele.name for ele in os.scandir('data/display')]"
   ]
  },
  {
   "cell_type": "code",
   "execution_count": null,
   "metadata": {},
   "outputs": [],
   "source": [
    "import pandas as pd\n",
    "test_pdf = pd.read_csv('data/test_frames_keypoints.csv')\n",
    "test_pdf[test_pdf['Unnamed: 0'].isin(\n",
    "    #[ele.name for ele in os.scandir('data/display')]\n",
    "    ['Agbani_Darego_50.jpg', 'Alexandra_Pelosi_30.jpg', 'Warren_Buffett_51.jpg', 'Wesley_Clark_40.jpg', 'Tom_Hanks_51.jpg',\n",
    "     'Hassan_Nasrallah_51.jpg', 'Jaime_Pressly_41.jpg', 'Benedita_da_Silva_20.jpg', 'Carlos_Iturgaitz_20.jpg']\n",
    ")].to_csv(\n",
    "    'data/display_test_frames_keypoints.csv', index=False)"
   ]
  },
  {
   "cell_type": "code",
   "execution_count": null,
   "metadata": {},
   "outputs": [],
   "source": [
    "# Subset of test data for displaying\n",
    "display_dataset = FacialKeypointsDataset(csv_file='data/display_test_frames_keypoints.csv',\n",
    "                                             root_dir='data/test/',\n",
    "                                             transform=data_transform)\n",
    "\n",
    "batch_size = 9\n",
    "\n",
    "display_loader = DataLoader(\n",
    "    display_dataset, \n",
    "    batch_size=batch_size,\n",
    "    shuffle=False, \n",
    "    num_workers=4)"
   ]
  },
  {
   "cell_type": "markdown",
   "metadata": {},
   "source": [
    "## Apply the model on a test sample\n",
    "\n",
    "To test the model on a test sample of data, you have to follow these steps:\n",
    "1. Extract the image and ground truth keypoints from a sample\n",
    "2. Make sure the image is a FloatTensor, which the model expects.\n",
    "3. Forward pass the image through the net to get the predicted, output keypoints.\n",
    "\n",
    "This function test how the network performs on the first batch of test data. It returns the images, the transformed images, the predicted keypoints (produced by the model), and the ground truth keypoints."
   ]
  },
  {
   "cell_type": "code",
   "execution_count": null,
   "metadata": {},
   "outputs": [],
   "source": [
    "# test the model on a batch of test images\n",
    "\n",
    "def net_sample_output(my_loader=test_loader):\n",
    "    \n",
    "    # iterate through the test dataset\n",
    "    for i, sample in enumerate(my_loader):\n",
    "        \n",
    "        # get sample data: images and ground truth keypoints\n",
    "        images = sample['image']\n",
    "        key_pts = sample['keypoints']\n",
    "\n",
    "        # convert images to FloatTensors\n",
    "        images = images.type(torch.FloatTensor)\n",
    "        images = images.to(device)\n",
    "\n",
    "        # forward pass to get net output\n",
    "        output_pts = net(images)\n",
    "        \n",
    "        # reshape to batch_size x 14 x 2 pts\n",
    "        output_pts = output_pts.view(output_pts.size()[0], 14, -1)\n",
    "        \n",
    "        # break after first batch of images is tested\n",
    "        if i == 0:\n",
    "            return images, output_pts, key_pts\n"
   ]
  },
  {
   "cell_type": "markdown",
   "metadata": {},
   "source": [
    "#### Debugging tips\n",
    "\n",
    "If you get a size or dimension error here, make sure that your network outputs the expected number of keypoints! Or if you get a Tensor type error, look into changing the above code that casts the data into float types: `images = images.type(torch.FloatTensor)`."
   ]
  },
  {
   "cell_type": "code",
   "execution_count": null,
   "metadata": {},
   "outputs": [],
   "source": [
    "import torch.optim as optim"
   ]
  },
  {
   "cell_type": "markdown",
   "metadata": {},
   "source": [
    "## Pre-defined architectures from torchvision"
   ]
  },
  {
   "cell_type": "code",
   "execution_count": null,
   "metadata": {},
   "outputs": [],
   "source": [
    "from fkpmodels.classifiers import Network"
   ]
  },
  {
   "cell_type": "code",
   "execution_count": null,
   "metadata": {},
   "outputs": [],
   "source": [
    "model_name = 'densenet121'\n",
    "net = models.densenet121(weights=models.DenseNet121_Weights.IMAGENET1K_V1)\n",
    "\n",
    "# Better use this because it could fit other image models better.\n",
    "model_classifier = Network(1024, 14*2, [1024, 512, 224])  # Added 224\n",
    "\n",
    "checkpoint_name = 'checkpoint_densenet121.pth'"
   ]
  },
  {
   "cell_type": "code",
   "execution_count": null,
   "metadata": {},
   "outputs": [],
   "source": [
    "model_name = 'vgg11'\n",
    "net = getattr(models, model_name)(weights=models.VGG11_Weights.DEFAULT)\n",
    "\n",
    "# Better use this because it could fit other image models better.\n",
    "model_classifier = Network(25088, 14*2, [6272, 3136])"
   ]
  },
  {
   "cell_type": "code",
   "execution_count": null,
   "metadata": {},
   "outputs": [],
   "source": [
    "model_name = 'vgg16'\n",
    "net = getattr(models, model_name)(weights=models.VGG16_Weights.DEFAULT)\n",
    "\n",
    "model_classifier = Network(25088, 14*2, [6272, 3136])\n",
    "\n",
    "net.classifier[0].in_features"
   ]
  },
  {
   "cell_type": "code",
   "execution_count": null,
   "metadata": {},
   "outputs": [],
   "source": [
    "# Freeze parameters so we don't backprop through them\n",
    "for param in net.parameters():\n",
    "    param.requires_grad = False"
   ]
  },
  {
   "cell_type": "code",
   "execution_count": null,
   "metadata": {},
   "outputs": [],
   "source": [
    "net.classifier = model_classifier\n",
    "\n",
    "# Only train the classifier parameters, feature parameters are frozen\n",
    "optimizer = optim.Adam(net.classifier.parameters(), lr=1e-4)\n",
    "#optimizer = optim.Adam(net.parameters(), lr=1e-4)"
   ]
  },
  {
   "cell_type": "markdown",
   "metadata": {
    "colab_type": "text",
    "id": "ul7vmyhRNmMy"
   },
   "source": [
    "## Xception Net model"
   ]
  },
  {
   "cell_type": "code",
   "execution_count": null,
   "metadata": {
    "colab": {
     "base_uri": "https://localhost:8080/",
     "height": 1000
    },
    "colab_type": "code",
    "id": "H9DLUfFz6AqG",
    "outputId": "355af264-dbcb-4c72-fa5e-05fcc3bab533"
   },
   "outputs": [],
   "source": [
    "from fkpmodels.xceptionnet import XceptionNet\n",
    "\n",
    "net, model_name = XceptionNet(), 'XceptionNet'\n",
    "\n",
    "optimizer = optim.Adam(net.parameters(), lr = 0.0008)\n",
    "# net.cuda()\n",
    "\n",
    "# Epoch 30/30.. Train loss: 0.003.. \n",
    "# Epoch 30/30.. Train loss: 0.002.. \n",
    "# Epoch 30/30.. Train loss: 0.002.. \n",
    "# Epoch 30/30.. Train loss: 0.002.. \n",
    "# Epoch 30/30.. Train loss: 0.002.. \n",
    "# Epoch 30/30.. Train loss: 0.002.. \n",
    "# Epoch 30/30.. Train loss: 0.001.. \n",
    "# CPU times: user 25min 10s, sys: 44.5 s, total: 25min 55s\n",
    "# Wall time: 26min 17s"
   ]
  },
  {
   "cell_type": "markdown",
   "metadata": {},
   "source": [
    "## Yet another NaimishNet"
   ]
  },
  {
   "cell_type": "code",
   "execution_count": null,
   "metadata": {},
   "outputs": [],
   "source": [
    "from fkpmodels.naimishnet import YaNaimishNet1\n",
    "net, model_name = YaNaimishNet1(), 'YaNaimishNet1'  # Not too bad when showing it faces only. Loss 0.001"
   ]
  },
  {
   "cell_type": "code",
   "execution_count": null,
   "metadata": {},
   "outputs": [],
   "source": [
    "from fkpmodels.naimishnet import YaNaimishNet2\n",
    "net, model_name = YaNaimishNet2(), 'YaNaimishNet2'  # Works"
   ]
  },
  {
   "cell_type": "code",
   "execution_count": null,
   "metadata": {},
   "outputs": [],
   "source": [
    "from fkpmodels.naimishnet import YaNaimishNet3\n",
    "net, model_name = YaNaimishNet3(), 'YaNaimishNet3'"
   ]
  },
  {
   "cell_type": "code",
   "execution_count": null,
   "metadata": {},
   "outputs": [],
   "source": [
    "# Run this for all NaimishNet's\n",
    "optimizer = optim.Adam(net.parameters(), lr=1e-4)"
   ]
  },
  {
   "cell_type": "markdown",
   "metadata": {},
   "source": [
    "## Select Criterion and move NN to device"
   ]
  },
  {
   "cell_type": "code",
   "execution_count": null,
   "metadata": {},
   "outputs": [],
   "source": [
    "# Use GPU if it's available\n",
    "device = torch.device(\"cuda\" if torch.cuda.is_available() else \"cpu\")\n",
    "# device = 'cpu'   # uncomment when training on the GPU fails, e.g. due to \"out of memory\"\n",
    "\n",
    "criterion = nn.MSELoss()  #.to(device)\n",
    "\n",
    "net.to(device);"
   ]
  },
  {
   "cell_type": "markdown",
   "metadata": {},
   "source": [
    "## Check choosen architecture"
   ]
  },
  {
   "cell_type": "code",
   "execution_count": null,
   "metadata": {},
   "outputs": [],
   "source": [
    "# call the above function; will fail if there is a problem in the pipeline\n",
    "# returns: test images, test predicted keypoints, test ground truth keypoints\n",
    "test_images, test_outputs, gt_pts = net_sample_output()\n",
    "\n",
    "# print out the dimensions of the data to see if they make sense\n",
    "print(test_images.data.size())\n",
    "print(test_outputs.data.size())\n",
    "print(gt_pts.size())"
   ]
  },
  {
   "cell_type": "code",
   "execution_count": null,
   "metadata": {},
   "outputs": [],
   "source": [
    "# gt_pts.view(gt_pts.size()[0], 68, -1).size()\n",
    "gt_pts.view(gt_pts.size()[0], 14, -1).size()"
   ]
  },
  {
   "cell_type": "code",
   "execution_count": null,
   "metadata": {},
   "outputs": [],
   "source": []
  },
  {
   "cell_type": "markdown",
   "metadata": {},
   "source": [
    "## Visualize the predicted keypoints\n",
    "\n",
    "Once we've had the model produce some predicted output keypoints, we can visualize these points in a way that's similar to how we've displayed this data before, only this time, we have to \"un-transform\" the image/keypoint data to display it.\n",
    "\n",
    "Note that I've defined a *new* function, `show_all_keypoints` that displays a grayscale image, its predicted keypoints and its ground truth keypoints (if provided)."
   ]
  },
  {
   "cell_type": "code",
   "execution_count": null,
   "metadata": {},
   "outputs": [],
   "source": [
    "def show_all_keypoints(image, predicted_key_pts, gt_pts=None):\n",
    "    \"\"\"Show image with predicted keypoints\"\"\"\n",
    "    # image is grayscale\n",
    "    plt.imshow(image, cmap='gray')\n",
    "    plt.scatter(predicted_key_pts[:, 0], predicted_key_pts[:, 1], s=20, marker='.', c='m')\n",
    "    # plot ground truth points as green pts\n",
    "    if gt_pts is not None:\n",
    "        plt.scatter(gt_pts[:, 0], gt_pts[:, 1], s=20, marker='.', c='g')\n"
   ]
  },
  {
   "cell_type": "markdown",
   "metadata": {},
   "source": [
    "#### Un-transformation\n",
    "\n",
    "Next, you'll see a helper function. `visualize_output` that takes in a batch of images, predicted keypoints, and ground truth keypoints and displays a set of those images and their true/predicted keypoints.\n",
    "\n",
    "This function's main role is to take batches of image and keypoint data (the input and output of your CNN), and transform them into numpy images and un-normalized keypoints (x, y) for normal display. The un-transformation process turns keypoints and images into numpy arrays from Tensors *and* it undoes the keypoint normalization done in the Normalize() transform; it's assumed that you applied these transformations when you loaded your test data."
   ]
  },
  {
   "cell_type": "code",
   "execution_count": null,
   "metadata": {},
   "outputs": [],
   "source": [
    "test_images, test_outputs, gt_pts = net_sample_output(my_loader=train_loader)"
   ]
  },
  {
   "cell_type": "code",
   "execution_count": null,
   "metadata": {},
   "outputs": [],
   "source": [
    "test_images, test_outputs, gt_pts = net_sample_output(my_loader=test_loader)"
   ]
  },
  {
   "cell_type": "code",
   "execution_count": null,
   "metadata": {},
   "outputs": [],
   "source": [
    "test_images, test_outputs, gt_pts = net_sample_output(my_loader=display_loader)"
   ]
  },
  {
   "cell_type": "code",
   "execution_count": null,
   "metadata": {},
   "outputs": [],
   "source": [
    "def show_all_keypoints_ax(ax, image, predicted_key_pts=None, gt_pts=None):\n",
    "    \"\"\"Show image with predicted keypoints\"\"\"\n",
    "    # image is grayscale\n",
    "    ax.imshow(image, cmap='gray')\n",
    "    if predicted_key_pts is not None:\n",
    "        ax.scatter(predicted_key_pts[:, 0], predicted_key_pts[:, 1], s=50, marker='.', c='m')\n",
    "    # plot ground truth points as green pts\n",
    "    if gt_pts is not None:\n",
    "        ax.scatter(gt_pts[:, 0], gt_pts[:, 1], s=20, marker='.', c='g')\n",
    "    ax.axis('off')\n",
    "\n",
    "# visualize the output\n",
    "# by default this shows a batch of 10 images\n",
    "def visualize_output(test_images, test_outputs=None, gt_pts=None, batch_size=10, normalize=True, figsize=(15.0,10.0), nrows_ncols=(5, 5)):\n",
    "    fig = plt.figure(figsize=figsize)\n",
    "    grid = ImageGrid(fig, 111, nrows_ncols=nrows_ncols, axes_pad = 0.1)\n",
    "    for i in range(batch_size):\n",
    "        #plt.figure(figsize=(20,10))\n",
    "        #ax = plt.subplot(1, batch_size, i+1)\n",
    "\n",
    "        # un-transform the image data\n",
    "        image = test_images[i].data   # get the image from it's wrapper\n",
    "        image = image.cpu().numpy()   # convert to numpy array from a Tensor\n",
    "        image = np.transpose(image, (1, 2, 0))   # transpose to go from torch to numpy image\n",
    "\n",
    "        if normalize:\n",
    "            mean = np.array([0.485, 0.456, 0.406])\n",
    "            std = np.array([0.229, 0.224, 0.225])\n",
    "            image = std * image + mean\n",
    "            image = np.clip(image, 0, 1)\n",
    "\n",
    "        predicted_key_pts = None\n",
    "        if test_outputs is not None:\n",
    "            # un-transform the predicted key_pts data\n",
    "            predicted_key_pts = test_outputs[i].data\n",
    "            predicted_key_pts = predicted_key_pts.cpu().numpy()\n",
    "            # undo normalization of keypoints  \n",
    "            predicted_key_pts = predicted_key_pts*50.0+100\n",
    "        \n",
    "        # plot ground truth points for comparison, if they exist\n",
    "        ground_truth_pts = None\n",
    "        if gt_pts is not None:\n",
    "            ground_truth_pts = gt_pts[i]         \n",
    "            ground_truth_pts = ground_truth_pts*50.0+100\n",
    "\n",
    "        # call show_all_keypoints\n",
    "        show_all_keypoints_ax(grid[i], np.squeeze(image), predicted_key_pts, ground_truth_pts)\n",
    "            \n",
    "        plt.axis('off')\n",
    "\n",
    "    plt.show()\n",
    "    \n",
    "# call it\n",
    "# visualize_output(test_images, test_outputs, gt_pts, batch_size=9, normalize=True, figsize=(6,6), nrows_ncols=(3, 3))\n",
    "if test_images[1].shape[0] == 3:  # its a color (RGB) image\n",
    "    visualize_output(test_images, test_outputs, gt_pts, batch_size=9, normalize=True, figsize=(6,6), nrows_ncols=(3, 3))\n",
    "else:\n",
    "    visualize_output(test_images, test_outputs, gt_pts, batch_size=9, normalize=False, figsize=(6,6), nrows_ncols=(3, 3))"
   ]
  },
  {
   "cell_type": "code",
   "execution_count": null,
   "metadata": {},
   "outputs": [],
   "source": [
    "images = next(iter(train_loader))\n",
    "if images['image'][0].shape[0] == 3:  # its a color (RGB) image\n",
    "    show_keypoints(images['image'][0], images['keypoints'][0], normalize=True)\n",
    "else:\n",
    "    show_keypoints(images['image'][0], images['keypoints'][0], normalize=False)"
   ]
  },
  {
   "cell_type": "code",
   "execution_count": null,
   "metadata": {},
   "outputs": [],
   "source": []
  },
  {
   "cell_type": "markdown",
   "metadata": {},
   "source": [
    "## Training\n",
    "\n",
    "#### Loss function\n",
    "Training a network to predict keypoints is different than training a network to predict a class; instead of outputting a distribution of classes and using cross entropy loss, you may want to choose a loss function that is suited for regression, which directly compares a predicted value and target value. Read about the various kinds of loss functions (like MSE or L1/SmoothL1 loss) in [this documentation](https://pytorch.org/docs/master/nn.html#loss-functions).\n",
    "\n",
    "### TODO: Define the loss and optimization\n",
    "\n",
    "Next, you'll define how the model will train by deciding on the loss function and optimizer.\n",
    "\n",
    "---"
   ]
  },
  {
   "cell_type": "code",
   "execution_count": null,
   "metadata": {},
   "outputs": [],
   "source": [
    "# # Use GPU if it's available\n",
    "# device = torch.device(\"cuda\" if torch.cuda.is_available() else \"cpu\")\n",
    "# device = \"cpu\"\n",
    "\n",
    "# ## TODO: Define the loss and optimization\n",
    "# import torch.optim as optim\n",
    "\n",
    "# criterion = nn.MSELoss().to(device)\n",
    "\n",
    "# #optimizer = optim.Adam(net.parameters(), lr=5e-5)\n",
    "# optimizer = optim.Adamax(net.parameters(), lr=1e-4)\n",
    "\n",
    "# net.to(device);"
   ]
  },
  {
   "cell_type": "markdown",
   "metadata": {},
   "source": [
    "## Training and Initial Observation\n",
    "\n",
    "Now, you'll train on your batched training data from `train_loader` for a number of epochs. \n",
    "\n",
    "To quickly observe how your model is training and decide on whether or not you should modify it's structure or hyperparameters, you're encouraged to start off with just one or two epochs at first. As you train, note how your model's loss behaves over time: does it decrease quickly at first and then slow down? Does it take a while to decrease in the first place? What happens if you change the batch size of your training data or modify your loss function? etc. \n",
    "\n",
    "Use these initial observations to make changes to your model and decide on the best architecture before you train for many epochs and create a final model."
   ]
  },
  {
   "cell_type": "markdown",
   "metadata": {},
   "source": [
    "### Run the following cell to start training the classifier with the selected model"
   ]
  },
  {
   "cell_type": "code",
   "execution_count": null,
   "metadata": {},
   "outputs": [],
   "source": [
    "%%time\n",
    "# This training loop was inspired by the \"Tranfer learning exercise\" too.\n",
    "# https://github.com/udacity/DSND_Term1/blob/1196aafd48a2278b02eff85510b582fd7e2a9d2d/lessons/DeepLearning/new-intro-to-pytorch/Part%208%20-%20Transfer%20Learning%20(Solution).ipynb\n",
    "# Note: In case of an \"out of memory\" of the GPU, try reducing the batch_size in the dataloaders.\n",
    "epochs = 30\n",
    "steps = 0\n",
    "running_loss = 0\n",
    "print_every = 20\n",
    "for epoch in range(epochs):\n",
    "    for data in train_loader:\n",
    "        steps += 1\n",
    "\n",
    "        images = data['image']\n",
    "        key_pts = data['keypoints']\n",
    "\n",
    "        # flatten pts\n",
    "        key_pts = key_pts.view(key_pts.size(0), -1)\n",
    "\n",
    "        # convert variables to floats for regression loss\n",
    "        key_pts = key_pts.type(torch.FloatTensor)\n",
    "        images = images.type(torch.FloatTensor)\n",
    "        # Move input and label tensors to the default device\n",
    "        images, key_pts = images.to(device), key_pts.to(device)\n",
    "        \n",
    "        optimizer.zero_grad()\n",
    "        \n",
    "        logps = net.forward(images)\n",
    "        loss = criterion(logps, key_pts)\n",
    "        loss.backward()\n",
    "        optimizer.step()\n",
    "\n",
    "        running_loss += loss.item()\n",
    "\n",
    "        if steps % print_every == 0:\n",
    "            test_loss = 0\n",
    "            accuracy = 0\n",
    "            net.eval()\n",
    "            # with torch.no_grad():\n",
    "            #     for data in test_loader:\n",
    "            #         inputs, labels = inputs.to(device), labels.to(device)\n",
    "            #         logps = model.forward(inputs)\n",
    "            #         batch_loss = criterion(logps, labels)\n",
    "                    \n",
    "            #         test_loss += batch_loss.item()\n",
    "                    \n",
    "            #         # Calculate accuracy\n",
    "            #         ps = torch.exp(logps)\n",
    "            #         top_p, top_class = ps.topk(1, dim=1)\n",
    "            #         equals = top_class == labels.view(*top_class.shape)\n",
    "            #         accuracy += torch.mean(equals.type(torch.FloatTensor)).item()\n",
    "                    \n",
    "            print(f\"Epoch {epoch+1}/{epochs}.. \"\n",
    "                  f\"Train loss: {running_loss/print_every:.3f}.. \"\n",
    "                  #f\"Test loss: {test_loss/len(dataloaders['valid']):.3f}.. \"\n",
    "                  #f\"Test accuracy: {accuracy/len(dataloaders['valid']):.3f}\"\n",
    "                 )\n",
    "            running_loss = 0\n",
    "            net.train()"
   ]
  },
  {
   "cell_type": "code",
   "execution_count": null,
   "metadata": {},
   "outputs": [],
   "source": []
  },
  {
   "cell_type": "code",
   "execution_count": null,
   "metadata": {},
   "outputs": [],
   "source": [
    "def train_net(n_epochs, device=None, print_every=5):\n",
    "    step = 0\n",
    "    # prepare the net for training\n",
    "    net.train()\n",
    "    #global output_pts\n",
    "    #global images\n",
    "    for epoch in range(n_epochs):  # loop over the dataset multiple times\n",
    "        \n",
    "        running_loss = 0.0\n",
    "\n",
    "        # train on batches of data, assumes you already have train_loader\n",
    "        for batch_i, data in enumerate(train_loader):\n",
    "            step += 1\n",
    "            # get the input images and their corresponding labels\n",
    "            images = data['image']\n",
    "            key_pts = data['keypoints']\n",
    "\n",
    "            # flatten pts\n",
    "            key_pts = key_pts.view(key_pts.size(0), -1)\n",
    "\n",
    "            # convert variables to floats for regression loss\n",
    "            key_pts = key_pts.type(torch.FloatTensor)\n",
    "            images = images.type(torch.FloatTensor)\n",
    "\n",
    "            if device is not None:\n",
    "                # Move input and label tensors to the default device\n",
    "                images, key_pts = images.to(device), key_pts.to(device)\n",
    "            # zero the parameter (weight) gradients\n",
    "            optimizer.zero_grad()\n",
    "\n",
    "            # forward pass to get outputs\n",
    "            # output_pts = net(images).to(device)\n",
    "            output_pts = net.forward(images) #.to(device)\n",
    "\n",
    "            # calculate the loss between predicted and target keypoints\n",
    "            #print(images.shape)\n",
    "            #print(output_pts.shape)\n",
    "            #print(key_pts.shape)\n",
    "            loss = torch.sqrt(criterion(output_pts, key_pts))\n",
    "\n",
    "            # zero the parameter (weight) gradients\n",
    "            #optimizer.zero_grad()\n",
    "            \n",
    "            # backward pass to calculate the weight gradients\n",
    "            loss.backward()\n",
    "\n",
    "            # update the weights\n",
    "            optimizer.step()\n",
    "            # print loss statistics\n",
    "            # to convert loss into a scalar and add it to the running_loss, use .item()\n",
    "            running_loss += loss.item()\n",
    "            #if batch_i % 10 == 9:    # print every 10 batches\n",
    "            if step % print_every == 0:\n",
    "                print('Epoch: {}, Batch: {}, Avg. Loss: {}'.format(epoch + 1, batch_i+1, running_loss/1000))\n",
    "                running_loss = 0.0\n",
    "\n",
    "    print('Finished Training')"
   ]
  },
  {
   "cell_type": "code",
   "execution_count": null,
   "metadata": {},
   "outputs": [],
   "source": [
    "%%time\n",
    "# train your network\n",
    "n_epochs = 30  # start small, and increase when you've decided on your model structure and hyperparams\n",
    "\n",
    "train_net(n_epochs, device=device, print_every=5)"
   ]
  },
  {
   "cell_type": "code",
   "execution_count": null,
   "metadata": {},
   "outputs": [],
   "source": [
    "minitest_images, minitest_outputs, minigt_pts = net_sample_output(my_loader=train_loader)"
   ]
  },
  {
   "cell_type": "code",
   "execution_count": null,
   "metadata": {},
   "outputs": [],
   "source": [
    "visualize_output(minitest_images, minitest_outputs, minigt_pts)"
   ]
  },
  {
   "cell_type": "code",
   "execution_count": null,
   "metadata": {},
   "outputs": [],
   "source": []
  },
  {
   "cell_type": "markdown",
   "metadata": {},
   "source": [
    "## Test data\n",
    "\n",
    "See how your model performs on previously unseen, test data. We've already loaded and transformed this data, similar to the training data. Next, run your trained model on these images to see what kind of keypoints are produced. You should be able to see if your model is fitting each new face it sees, if the points are distributed randomly, or if the points have actually overfitted the training data and do not generalize."
   ]
  },
  {
   "cell_type": "code",
   "execution_count": null,
   "metadata": {},
   "outputs": [],
   "source": [
    "# get a sample of test data again"
   ]
  },
  {
   "cell_type": "code",
   "execution_count": null,
   "metadata": {},
   "outputs": [],
   "source": [
    "test_images, test_outputs, gt_pts = net_sample_output(my_loader=train_loader)"
   ]
  },
  {
   "cell_type": "code",
   "execution_count": null,
   "metadata": {},
   "outputs": [],
   "source": [
    "test_images, test_outputs, gt_pts = net_sample_output(my_loader=test_loader)"
   ]
  },
  {
   "cell_type": "code",
   "execution_count": null,
   "metadata": {},
   "outputs": [],
   "source": [
    "test_images, test_outputs, gt_pts = net_sample_output(my_loader=display_loader)"
   ]
  },
  {
   "cell_type": "code",
   "execution_count": null,
   "metadata": {},
   "outputs": [],
   "source": [
    "print(test_images.data.size())\n",
    "print(test_outputs.data.size())\n",
    "print(gt_pts.size())"
   ]
  },
  {
   "cell_type": "code",
   "execution_count": null,
   "metadata": {},
   "outputs": [],
   "source": [
    "test_images.shape"
   ]
  },
  {
   "cell_type": "code",
   "execution_count": null,
   "metadata": {},
   "outputs": [],
   "source": [
    "## TODO: visualize your test output\n",
    "# you can use the same function as before, by un-commenting the line below:\n",
    "\n",
    "if test_images[1].shape[0] == 3:  # its a color (RGB) image\n",
    "    visualize_output(test_images, test_outputs, gt_pts, batch_size=9, normalize=True, figsize=(6,6), nrows_ncols=(3, 3))\n",
    "else:\n",
    "    visualize_output(test_images, test_outputs, gt_pts, batch_size=9, normalize=False, figsize=(6,6), nrows_ncols=(3, 3))"
   ]
  },
  {
   "cell_type": "markdown",
   "metadata": {},
   "source": [
    "Once you've found a good model (or two), save your model so you can load it and use it later!"
   ]
  },
  {
   "cell_type": "code",
   "execution_count": null,
   "metadata": {},
   "outputs": [],
   "source": [
    "## TODO: change the name to something uniqe for each new model\n",
    "model_dir = 'saved_models/'\n",
    "\n",
    "\n",
    "# after training, save your model parameters in the dir 'saved_models'\n",
    "torch.save(net.state_dict(), model_dir+model_name+'.pt')"
   ]
  },
  {
   "cell_type": "markdown",
   "metadata": {},
   "source": [
    "After you've trained a well-performing model, answer the following questions so that we have some insight into your training and architecture selection process. Answering all questions is required to pass this project."
   ]
  },
  {
   "cell_type": "markdown",
   "metadata": {},
   "source": [
    "### Question 1: What optimization and loss functions did you choose and why?\n"
   ]
  },
  {
   "cell_type": "markdown",
   "metadata": {},
   "source": [
    "**Answer**: write your answer here (double click to edit this cell)"
   ]
  },
  {
   "cell_type": "markdown",
   "metadata": {},
   "source": [
    "### Question 2: What kind of network architecture did you start with and how did it change as you tried different architectures? Did you decide to add more convolutional layers or any layers to avoid overfitting the data?"
   ]
  },
  {
   "cell_type": "markdown",
   "metadata": {},
   "source": [
    "**Answer**: write your answer here"
   ]
  },
  {
   "cell_type": "markdown",
   "metadata": {},
   "source": [
    "### Question 3: How did you decide on the number of epochs and batch_size to train your model?"
   ]
  },
  {
   "cell_type": "markdown",
   "metadata": {},
   "source": [
    "**Answer**: write your answer here"
   ]
  },
  {
   "cell_type": "markdown",
   "metadata": {},
   "source": [
    "## Feature Visualization\n",
    "\n",
    "Sometimes, neural networks are thought of as a black box, given some input, they learn to produce some output. CNN's are actually learning to recognize a variety of spatial patterns and you can visualize what each convolutional layer has been trained to recognize by looking at the weights that make up each convolutional kernel and applying those one at a time to a sample image. This technique is called feature visualization and it's useful for understanding the inner workings of a CNN."
   ]
  },
  {
   "cell_type": "markdown",
   "metadata": {},
   "source": [
    "In the cell below, you can see how to extract a single filter (by index) from your first convolutional layer. The filter should appear as a grayscale grid."
   ]
  },
  {
   "cell_type": "code",
   "execution_count": null,
   "metadata": {},
   "outputs": [],
   "source": [
    "# visTensor from https://stackoverflow.com/questions/55594969/how-to-visualise-filters-in-a-cnn-with-pytorch\n",
    "\n",
    "from torchvision import utils\n",
    "\n",
    "def visTensor(tensor, ch=0, allkernels=False, nrow=8, padding=1): \n",
    "    n,c,w,h = tensor.shape\n",
    "\n",
    "    if allkernels: tensor = tensor.view(n*c, -1, w, h)\n",
    "    elif c != 3: tensor = tensor[:,ch,:,:].unsqueeze(dim=1)\n",
    "\n",
    "    rows = np.min((tensor.shape[0] // nrow + 1, 64))    \n",
    "    grid = utils.make_grid(tensor, nrow=nrow, normalize=True, padding=padding)\n",
    "    plt.figure( figsize=(nrow,rows) )\n",
    "    plt.imshow(grid.numpy().transpose((1, 2, 0)))"
   ]
  },
  {
   "cell_type": "code",
   "execution_count": null,
   "metadata": {},
   "outputs": [],
   "source": [
    "def plot_filters(w, columns=8, figsize=12, cmap=None):\n",
    "    columns = 8\n",
    "    rows = int(w.shape[0]/columns)\n",
    "    fig=plt.figure(figsize=(figsize, figsize*rows/columns))\n",
    "    for i in range(0, columns*rows):\n",
    "        fig.add_subplot(rows, columns, i+1)\n",
    "        if w.shape[1] == 3:  # color filter\n",
    "            image = w[i].transpose(1,2,0)\n",
    "            mean = np.array([0.485, 0.456, 0.406])\n",
    "            std = np.array([0.229, 0.224, 0.225])\n",
    "            image = std * image + mean\n",
    "            image = np.clip(image, 0, 1)\n",
    "            plt.imshow(image)\n",
    "        else:\n",
    "            plt.imshow(w[i][0], cmap='gray')\n",
    "\n",
    "# Get the weights in the first conv layer, \"conv1\"\n",
    "weights = net.conv1.weight.data\n",
    "w = weights.cpu().clone().numpy()\n",
    "visTensor(weights.cpu().clone())\n",
    "# plot_filters(w)\n",
    "\n",
    "print('First convolutional layer')\n",
    "plt.show()\n",
    "\n",
    "# weights = net.conv2.weight.data\n",
    "# w = weights.cpu().numpy()"
   ]
  },
  {
   "cell_type": "code",
   "execution_count": null,
   "metadata": {},
   "outputs": [],
   "source": [
    "weights = net.conv1.weight.data\n",
    "w = weights.cpu().clone().numpy()\n",
    "visTensor(weights.cpu().clone()[:,0:1,:,:])"
   ]
  },
  {
   "cell_type": "code",
   "execution_count": null,
   "metadata": {},
   "outputs": [],
   "source": [
    "visTensor(weights.cpu().clone()[:,1:2,:,:])"
   ]
  },
  {
   "cell_type": "code",
   "execution_count": null,
   "metadata": {},
   "outputs": [],
   "source": [
    "# Get the weights in the first conv layer, \"conv1\"\n",
    "# if necessary, change this to reflect the name of your first conv layer\n",
    "weights1 = net.conv1.weight.data\n",
    "\n",
    "w = weights1.cpu().numpy()\n",
    "\n",
    "filter_index = 0\n",
    "\n",
    "print(w[filter_index][0])\n",
    "print(w[filter_index][0].shape)\n",
    "\n",
    "# display the filter weights\n",
    "plt.imshow(w[filter_index][0], cmap='gray')\n"
   ]
  },
  {
   "cell_type": "markdown",
   "metadata": {},
   "source": [
    "## Feature maps\n",
    "\n",
    "Each CNN has at least one convolutional layer that is composed of stacked filters (also known as convolutional kernels). As a CNN trains, it learns what weights to include in its convolutional kernels and when these kernels are applied to some input image, they produce a set of **feature maps**. So, feature maps are just sets of filtered images; they are the images produced by applying a convolutional kernel to an input image. These maps show us the features that the different layers of the neural network learn to extract. For example, you might imagine a convolutional kernel that detects the vertical edges of a face or another one that detects the corners of eyes. You can see what kind of features each of these kernels detects by applying them to an image. One such example is shown below; from the way it brings out the lines in an the image, you might characterize this as an edge detection filter.\n",
    "\n",
    "<img src='images/feature_map_ex.png' width=50% height=50%/>\n",
    "\n",
    "\n",
    "Next, choose a test image and filter it with one of the convolutional kernels in your trained CNN; look at the filtered output to get an idea what that particular kernel detects.\n",
    "\n",
    "### TODO: Filter an image to see the effect of a convolutional kernel\n",
    "---"
   ]
  },
  {
   "cell_type": "code",
   "execution_count": null,
   "metadata": {},
   "outputs": [],
   "source": [
    "##TODO: load in and display any image from the transformed test dataset\n",
    "\n",
    "## TODO: Using cv's filter2D function,\n",
    "## apply a specific set of filter weights (like the one displayed above) to the test image\n"
   ]
  },
  {
   "cell_type": "code",
   "execution_count": null,
   "metadata": {
    "scrolled": true
   },
   "outputs": [],
   "source": [
    "import cv2"
   ]
  },
  {
   "cell_type": "code",
   "execution_count": null,
   "metadata": {},
   "outputs": [],
   "source": [
    "weights = net.conv1.weight.data\n",
    "w = weights.cpu().clone().numpy()\n",
    "visTensor(weights.cpu().clone())\n",
    "# plot_filters(w)"
   ]
  },
  {
   "cell_type": "code",
   "execution_count": null,
   "metadata": {},
   "outputs": [],
   "source": [
    "w.shape"
   ]
  },
  {
   "cell_type": "code",
   "execution_count": null,
   "metadata": {},
   "outputs": [],
   "source": [
    "image_id = 1\n",
    "\n",
    "\n",
    "def apply_kernels_to_image(image, w):\n",
    "    \"\"\"\n",
    "    Apply the kernels w (channels, width, height) to the image using cv2.filter2D for each channel.\n",
    "    \"\"\"\n",
    "    filtered_image = image.data.cpu().clone().numpy() # convert to numpy array from a Tensor\n",
    "    n_image_channels, width_image, height_image = filtered_image.shape\n",
    "    n_kernels, n_kernel_channels = w.shape[0], w.shape[1]\n",
    "    assert n_kernel_channels == n_image_channels, \"The number of image channels and kernel channels must match\"\n",
    "    n_channels = n_kernel_channels\n",
    "    #filtered_image = np.transpose(image, (1, 2, 0))   # transpose to go from torch to numpy image\n",
    "    filtered_images = np.zeros((n_kernels, n_channels, width_image, height_image))\n",
    "    for kernel_num in range(n_kernels):\n",
    "        image_copy = filtered_image.copy()\n",
    "        for channel_num in range(n_channels):  # Apply kernels to each color channel\n",
    "            filtered_images[kernel_num][channel_num] = cv2.filter2D(image_copy[channel_num], -1, w[kernel_num][channel_num]) \n",
    "    \n",
    "    return torch.FloatTensor(filtered_images)\n",
    "\n",
    "\n",
    "filtered_images_tt = apply_kernels_to_image(test_images[image_id], w)"
   ]
  },
  {
   "cell_type": "code",
   "execution_count": null,
   "metadata": {},
   "outputs": [],
   "source": [
    "if test_images[1].shape[0] == 3:  # its a color (RGB) image\n",
    "    visualize_output(filtered_images_tt, batch_size=32, normalize=True, figsize=(12,6), nrows_ncols=(4, 8))\n",
    "else:\n",
    "    visualize_output(filtered_images_tt, batch_size=32, normalize=False, figsize=(6,6), nrows_ncols=(4, 8))"
   ]
  },
  {
   "cell_type": "code",
   "execution_count": null,
   "metadata": {},
   "outputs": [],
   "source": []
  },
  {
   "cell_type": "markdown",
   "metadata": {},
   "source": [
    "### Question 4: Choose one filter from your trained CNN and apply it to a test image; what purpose do you think it plays? What kind of feature do you think it detects?\n"
   ]
  },
  {
   "cell_type": "markdown",
   "metadata": {},
   "source": [
    "**Answer**: (does it detect vertical lines or does it blur out noise, etc.) write your answer here"
   ]
  },
  {
   "cell_type": "markdown",
   "metadata": {},
   "source": [
    "---\n",
    "## Moving on!\n",
    "\n",
    "Now that you've defined and trained your model (and saved the best model), you are ready to move on to the last notebook, which combines a face detector with your saved model to create a facial keypoint detection system that can predict the keypoints on *any* face in an image!"
   ]
  }
 ],
 "metadata": {
  "kernelspec": {
   "display_name": "Python 3 (ipykernel)",
   "language": "python",
   "name": "python3"
  },
  "language_info": {
   "codemirror_mode": {
    "name": "ipython",
    "version": 3
   },
   "file_extension": ".py",
   "mimetype": "text/x-python",
   "name": "python",
   "nbconvert_exporter": "python",
   "pygments_lexer": "ipython3",
   "version": "3.11.3"
  }
 },
 "nbformat": 4,
 "nbformat_minor": 4
}
